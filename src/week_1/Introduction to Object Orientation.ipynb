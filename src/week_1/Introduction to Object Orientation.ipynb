{
 "cells": [
  {
   "cell_type": "markdown",
   "id": "dc5b1baf-294e-448b-ae78-c6b187aa7ee4",
   "metadata": {},
   "source": [
    "# What is object-oriented programming?\n",
    "\n",
    "There exist different programming paradigms. If you have some prior\n",
    "experience with more than one programming language, you might already have\n",
    "encountered different paradigms. Within Python, it is even possible to mix\n",
    "and match different paradigms (up to a point) depending on your needs. Next\n",
    "to object-oriented programming, a commonly encountered paradigm is\n",
    "procedural programming.\n",
    "\n",
    "In procedural programming, you describe, step by step, what should happen to\n",
    "solve a given task. Most programming you have been doing in Python in the\n",
    "previous quarter was of this style. Basically, in Python, you are using\n",
    "procedural programming if you use one or more functions to achieve your\n",
    "objectives.\n",
    "\n",
    "In contrast, in object-oriented programming, you break down tasks into\n",
    "separate components which have well-defined behavior and state. Next,\n",
    "programming objectives are achieved by having these components, or objects,\n",
    "interact. In Python, you have been using this implicitly all the time\n",
    "because everything (including functions.... ) are actually objects. That is,\n",
    "a pandas DataFrame, for example, is actually an object.\n",
    "\n",
    "There is some terminology involved in object-oriented programming. Exact\n",
    "definitions of these terms are tricky and a heated topic of debate within\n",
    "computer science. Below, I give loose characterizations which should be\n",
    "roughly right and sufficient for you to get started.\n",
    "\n",
    "* **class**; A template describing the state and behavior of a given type of objects\n",
    "* **object**; an instance of a class\n",
    "* **method**; a 'function' belonging to a class where the behavior of this\n",
    "'function' is partly dependent on the state of the object (i.e. instance of the class).\n",
    "* **attribute**; a variable on a class whose value is unique to an object.\n",
    "Attributes are used for data that describes the state of the object and\n",
    "which influences the behavior of the object.\n",
    "* **inheritance**; a way of having a family of classes were some classes are\n",
    "subtypes of a more generic type\n",
    "\n",
    "For a more thorough introduction of object-oriented programming, the\n",
    "[Wikipedia entry](https://en.wikipedia.org/wiki/Object-oriented_programming)\n",
    "is quite good. For a more specific introduction of what object-oriented\n",
    "programming means in the context of Python, please check [the realpython\n",
    "introduction](https://realpython.com/python3-object-oriented-programming/)."
   ]
  },
  {
   "cell_type": "markdown",
   "id": "d89741fa",
   "metadata": {
    "pycharm": {
     "name": "#%% md\n"
    }
   },
   "source": [
    "# Why and when to use Object-Oriented programming\n",
    "\n",
    "Given that in agent-based modelling, we are interested in creating many\n",
    "agents and see how from their interaction aggregate patterns emerge,\n",
    "object-oriented programming is a natural fit. Agents are clearly objects,\n",
    "with state and behavior."
   ]
  },
  {
   "cell_type": "markdown",
   "id": "a00982cd",
   "metadata": {
    "pycharm": {
     "name": "#%% md\n"
    }
   },
   "source": [
    "# How to define classes in Python\n",
    "\n",
    "\n",
    "\n"
   ]
  },
  {
   "cell_type": "code",
   "execution_count": 3,
   "id": "5d065896-4a18-42ef-ab2b-76ecdb12771e",
   "metadata": {},
   "outputs": [],
   "source": [
    "\n",
    "class SomeClass:\n",
    "    pass"
   ]
  },
  {
   "cell_type": "markdown",
   "id": "cca0b70c",
   "metadata": {},
   "source": [
    "## instantiating a class"
   ]
  },
  {
   "cell_type": "code",
   "execution_count": 4,
   "id": "bdf116b2-22d5-4fc8-8494-e0ff01dbd023",
   "metadata": {},
   "outputs": [
    {
     "data": {
      "text/plain": [
       "<__main__.SomeClass at 0x7fda92de47f0>"
      ]
     },
     "execution_count": 4,
     "metadata": {},
     "output_type": "execute_result"
    }
   ],
   "source": [
    "my_object = SomeClass()\n",
    "my_object"
   ]
  },
  {
   "cell_type": "markdown",
   "id": "632a8da1-aaf8-495a-ad49-1740c134ed10",
   "metadata": {},
   "source": [
    "clearly the current class is not particularly interesting. It presently is just an empty container with neither **state** nor **behavior**. So let's start by adding some behavior to this class"
   ]
  },
  {
   "cell_type": "markdown",
   "id": "4cc37de9",
   "metadata": {},
   "source": [
    "## adding behavior\n",
    "\n",
    "\n",
    "As you can see, a method is defined just like a function starting with the `def` keyword. Note however, how it is indented 4 spaces to indicate that it is part of the class code block. Next, methods almost always take as the first argument the argument `self`. This argument refers to the instance and allows us to assign attributes to it as we do in the next line. The only case were methods take some other argument instead of self is if we define class methods. Like attributes, methods can be defined at the class or instance level, but this is well outside the scope of this tutorial.\n"
   ]
  },
  {
   "cell_type": "code",
   "execution_count": 5,
   "id": "f5b1a0e9-7545-4c62-b7ba-39f3c72ac524",
   "metadata": {},
   "outputs": [],
   "source": [
    "class SomeClass:\n",
    "    def some_behavior(self):\n",
    "        print(f\"{self} can do something\")"
   ]
  },
  {
   "cell_type": "code",
   "execution_count": 6,
   "id": "fd5933fd-1ac5-4a55-b44a-114c16f2a30d",
   "metadata": {},
   "outputs": [
    {
     "name": "stdout",
     "output_type": "stream",
     "text": [
      "<__main__.SomeClass object at 0x7fda92de45e0> can do something\n"
     ]
    }
   ],
   "source": [
    "instance = SomeClass()\n",
    "instance.some_behavior()"
   ]
  },
  {
   "cell_type": "markdown",
   "id": "4e3a683f-21b0-4e8d-a8f8-18c56ed986c5",
   "metadata": {},
   "source": [
    "arguments and keyword arguments"
   ]
  },
  {
   "cell_type": "markdown",
   "id": "72cc5332-3bcf-4d8e-92a6-6ff6c87743e7",
   "metadata": {},
   "source": [
    "but all this behavior is not yet that interesting because it does not rely on the state of the object. That is, these methods could equally well have been implemented as normal Python functions."
   ]
  },
  {
   "cell_type": "markdown",
   "id": "535bce3a",
   "metadata": {},
   "source": [
    "## adding state\n",
    "the state of an object is stored in data fields. These fields are better\n",
    "known as **attributes**.\n",
    "later tutorial on more sophisticated use of attributes through properties and\n",
    " descriptors.\n",
    "\n",
    "So, how can we define attributes? The obvious, but as we shall see wrong way to go, is to just define variables within the scope of the class description like this"
   ]
  },
  {
   "cell_type": "code",
   "execution_count": 8,
   "id": "b4f19354-84e6-4b0f-b9a4-78885d6dd9fa",
   "metadata": {},
   "outputs": [
    {
     "name": "stdout",
     "output_type": "stream",
     "text": [
      "False\n",
      "[]\n",
      "[]\n"
     ]
    }
   ],
   "source": [
    "\n",
    "class SomeClass(object):\n",
    "    class_attr = []\n",
    "    \n",
    "\n",
    "instance_1 = SomeClass()\n",
    "instance_2 = SomeClass()\n",
    "\n",
    "print(instance_1==instance_2)\n",
    "print(instance_1.class_attr)\n",
    "print(instance_2.class_attr)\n",
    "\n",
    "\n"
   ]
  },
  {
   "cell_type": "markdown",
   "id": "e0934fee-c994-4aa9-9723-8e14e255a620",
   "metadata": {},
   "source": [
    "At face value, this seems to work fine. We have two instances of our class,\n",
    "they are not identical (checked using the `==` operator), and both return an\n",
    " empty list for the attribute. There is however a problem with the code above. We can define attributes at the level of the instance (i.e., the **object**) or at the level of the **class**. Instance level attributes contain state unique to that instance, while class level attributes are used to share state that is the same for all instances of the class. The main use case for class level attributes is for data fields that you don't intend to change throughout the lifetime of an object. A more specialist use case is that it can potentially reduce the memory footprint of your code.\n",
    "\n",
    "To show what is actually going on in the above coe, let's run the code below and try to explain what is happening"
   ]
  },
  {
   "cell_type": "code",
   "execution_count": 9,
   "id": "82727afa-cb47-4101-b594-26049df1252d",
   "metadata": {},
   "outputs": [
    {
     "name": "stdout",
     "output_type": "stream",
     "text": [
      "[6]\n",
      "[6]\n"
     ]
    }
   ],
   "source": [
    "instance_1.class_attr.append(6)\n",
    "print(instance_1.class_attr)\n",
    "print(instance_2.class_attr)\n",
    "\n"
   ]
  },
  {
   "cell_type": "markdown",
   "id": "2e248f99-b5c9-461e-ac72-f52026da3738",
   "metadata": {},
   "source": [
    "Here we see something which might at first appear strange. By appending something to `class_attr` for instance_1, we are actually also changing the state of instance 2. This is because `class_attr` is defined at the class level. If we append something to the list, we are changing the state at the class level, and thus is the state of our second instance is also updated. \n",
    "\n",
    "How can we add state to instances and keep this separate from the state of the class? to answer this question we need to discuss the so-called `__init__` method. The `__init__` method is an example of what is known as Python magics, or *dunder method* (dunder is shorthand for double underscore). There are many dunder methods available, and they allow you to tinker in sophisticated ways with how objects interact. For example, there are dunder methods for adding, subtracting, and comparing, allowing you to use the `+`, `-`, or `>` operators with user defined classes. Typically, however, you will only use the `__init__`. So let's expand the class and give it an init method.\n"
   ]
  },
  {
   "cell_type": "code",
   "execution_count": 10,
   "id": "f27f823f-6f1c-48eb-818b-fece36d8556c",
   "metadata": {},
   "outputs": [
    {
     "name": "stdout",
     "output_type": "stream",
     "text": [
      "False\n",
      "[]\n",
      "[]\n",
      "[6]\n",
      "[]\n"
     ]
    }
   ],
   "source": [
    "class SomeClass(object):\n",
    "    class_attr = []\n",
    "    \n",
    "    def __init__(self):\n",
    "        self.instance_attr = []\n",
    "    \n",
    "\n",
    "instance_1 = SomeClass()\n",
    "instance_2 = SomeClass()\n",
    "\n",
    "print(instance_1==instance_2)\n",
    "print(instance_1.class_attr)\n",
    "print(instance_2.class_attr)\n",
    "\n",
    "instance_1.instance_attr.append(6)\n",
    "print(instance_1.instance_attr)\n",
    "print(instance_2.instance_attr)"
   ]
  },
  {
   "cell_type": "markdown",
   "id": "2c86e9c6-a16a-4c6a-a89c-e66bd7c65ebf",
   "metadata": {},
   "source": [
    "Now we have the desired behavior: if we append something to `instance_attr` of instance_1, we are only changing the state of instance_1, leaving the state of instance_2 unchanged. \n",
    "\n",
    "So let's summarize what we have learned so far about defining classes in Python. The default structure of a class is shown below, with some comments summarising everything shown so far.\n",
    "\n",
    "```python\n",
    "\n",
    "class SomeName:\n",
    "    attribute = 5                          # class attribute\n",
    "    \n",
    "    def __init__(self):                    # init magic method\n",
    "        self.instance_attribute = 4        # instance level attribute\n",
    "        some_variable                      # variable that exists only within the scope of this method\n",
    "        \n",
    "    def a_method(self, arg1, kwarg1=5):    # a user defined method, taking an argument and a keyword argument\n",
    "        pass\n",
    "\n",
    "\n",
    "```"
   ]
  },
  {
   "cell_type": "markdown",
   "id": "6fcb3170",
   "metadata": {},
   "source": [
    "# Inheriting and extending classes\n"
   ]
  },
  {
   "cell_type": "markdown",
   "id": "51ee685e-ba6b-4488-842d-89212629a53b",
   "metadata": {},
   "source": [
    "So far, we have looked at how to define a class, how to instantiatie a class, and how to add state and behavior to a class. For many applications of object oriented programming in the context of agent based modeling this is adequate. However, a key reason for using object orientation is that it allows you to split your code into smaller parts that are easier to write, maintain, and expand. To do this, object oriented program uses the idea of inheritence. The basic idea is that you create a hierarcy of classes where classes lower in the hierarchy are a further specification or detailing of a class higher in the hierarchy. \n",
    "\n",
    "Imagine that we have a model about civil unrest with cops and protesters. Both cops and protesters move about the space in the same way, and their vision. (i.e. what other agents they can see) works in the same way. However, a cop uses what it sees in order to make an arrest, while a protester makes a risk assessment based on what it can see to inform the choice of whether to become an active protester. In this simple example, the moving and seeing behavior is shared. Ideally, you want to implement this only once, while how this is being used for the specific behavior of the cop and protester is left to the cop and agent class. Here inheritence can be used to implement the generic behavior in a parent class (e.g. BaseAgent) and leave the cop and protester behavior to the child classes (i.e., Cop and Protester). \n",
    "\n",
    "Below a skeleton implementation of the BaseAgent, Cop, and Protester is given. First, we implement the `update_vision` and `move` methods in `BaseAgent`. Next, we create a cop class and indicate that `BaseAgent` is its parent (or super) class by stating this in between brackets: `class Cop(BaseAgent)`. Last, we can use `super()` to call a method on our parent class. So, `super().act()` on the `Cop` calls the `act` method on `BaseAgent` en likewise with both `__init__` and `act` on the `Protester`. Note how in this example, we do not have to repeat any code. The shared behavior is all available in the `BaseAgent`, while both `Cop` and `Protester` expand on this basic behavior in their own unique way.\n",
    "\n",
    "If you want to know more on inheritence, consider checking [RealPython](https://realpython.com/python-super/). \n",
    "\n",
    "```python\n",
    "\n",
    "class BaseAgent:\n",
    "    \n",
    "    def __init__(self, pos):\n",
    "        self.my_vision = [] # some collection with agents that can be seen\n",
    "        self.position = pos # a location on a 2D grid e.g., (5,4)\n",
    "        \n",
    "    \n",
    "    def update_vision(self):\n",
    "        # update my_vision\n",
    "        self.my_vision = some_update_method(self.pos)\n",
    "    \n",
    "    def move(self):\n",
    "        # identify empty position in neighborhood\n",
    "        \n",
    "        self.pos = new_position\n",
    "        self.update_vision\n",
    "        \n",
    "    def act(self):\n",
    "        self.move()\n",
    "\n",
    "\n",
    "class Cop(BaseAgent)\n",
    "    \n",
    "    def act(self):\n",
    "        super().act()\n",
    "        # filter my_vision to retain only active Protesters\n",
    "        # randomly select one active protester and arrest this one\n",
    "\n",
    "\n",
    "class Protester(BaseAgent):\n",
    "    \n",
    "    def __init__(self, pos, risk_threshold):\n",
    "        super().__init__(pos)\n",
    "        self.risk_threshold = risk_threshold\n",
    "    \n",
    "    def act(self):\n",
    "        super().act()\n",
    "        \n",
    "        # count active protesters in self.my_vision\n",
    "        # count cops in self.my_vision\n",
    "        n_protesters, n_cops = self.count_agents_in_vision()\n",
    "        \n",
    "        \n",
    "        # do a risk calculation\n",
    "        if risk / self.risk_threshold:\n",
    "            # become active\n",
    "\n",
    "    def count_agents_in_vision(self):\n",
    "        # some counting\n",
    "        n_cops = 0\n",
    "        n_protesters = 0\n",
    "        for agent in self.my_vision:\n",
    "            pass\n",
    "\n",
    "```\n"
   ]
  },
  {
   "cell_type": "code",
   "execution_count": null,
   "id": "d7ed722c-0849-45f9-8567-fe4f913190f5",
   "metadata": {},
   "outputs": [],
   "source": []
  }
 ],
 "metadata": {
  "kernelspec": {
   "display_name": "PyCharm (EPA1324)",
   "language": "python",
   "name": "pycharm-3bfdda27"
  },
  "language_info": {
   "codemirror_mode": {
    "name": "ipython",
    "version": 3
   },
   "file_extension": ".py",
   "mimetype": "text/x-python",
   "name": "python",
   "nbconvert_exporter": "python",
   "pygments_lexer": "ipython3",
   "version": "3.8.5"
  }
 },
 "nbformat": 4,
 "nbformat_minor": 5
}
