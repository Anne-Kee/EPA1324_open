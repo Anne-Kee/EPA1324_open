{
 "cells": [
  {
   "cell_type": "code",
   "execution_count": 1,
   "id": "d33821ec-0f26-4853-871d-ba464123afb0",
   "metadata": {},
   "outputs": [],
   "source": [
    "import math\n",
    "import numpy as np\n",
    "import pandas as pd\n",
    "\n",
    "from mesa import Model, Agent, RandomActivation"
   ]
  },
  {
   "cell_type": "code",
   "execution_count": null,
   "id": "ee830824-750e-4d4b-abf1-2209e0923f7e",
   "metadata": {},
   "outputs": [],
   "source": []
  },
  {
   "cell_type": "code",
   "execution_count": null,
   "id": "514bacd5-45e5-48f9-9819-943deb414486",
   "metadata": {},
   "outputs": [],
   "source": []
  }
 ],
 "metadata": {
  "kernelspec": {
   "display_name": "PyCharm (EPA1324)",
   "language": "python",
   "name": "pycharm-3bfdda27"
  },
  "language_info": {
   "codemirror_mode": {
    "name": "ipython",
    "version": 3
   },
   "file_extension": ".py",
   "mimetype": "text/x-python",
   "name": "python",
   "nbconvert_exporter": "python",
   "pygments_lexer": "ipython3",
   "version": "3.8.5"
  }
 },
 "nbformat": 4,
 "nbformat_minor": 5
}
