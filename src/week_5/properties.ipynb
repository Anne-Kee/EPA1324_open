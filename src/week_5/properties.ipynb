{
 "cells": [
  {
   "cell_type": "markdown",
   "id": "8c771c33-b09f-423f-a9e3-7a1668e58137",
   "metadata": {},
   "source": [
    "\n",
    "\n",
    "attributes (class versus instance), method resolution order\n",
    "getattr setattr\n",
    "properties and descriptors"
   ]
  }
 ],
 "metadata": {
  "kernelspec": {
   "display_name": "Python 3 (ipykernel)",
   "language": "python",
   "name": "python3"
  },
  "language_info": {
   "codemirror_mode": {
    "name": "ipython",
    "version": 3
   },
   "file_extension": ".py",
   "mimetype": "text/x-python",
   "name": "python",
   "nbconvert_exporter": "python",
   "pygments_lexer": "ipython3",
   "version": "3.8.5"
  }
 },
 "nbformat": 4,
 "nbformat_minor": 5
}
